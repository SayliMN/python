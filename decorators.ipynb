{
 "cells": [
  {
   "cell_type": "code",
   "execution_count": 7,
   "id": "850cc8d8",
   "metadata": {},
   "outputs": [
    {
     "name": "stdout",
     "output_type": "stream",
     "text": [
      "White color\n",
      "Small size\n",
      "I want to purchase cloths\n"
     ]
    }
   ],
   "source": [
    "def color(func):\n",
    "    def wrapper():\n",
    "        print(\"White color\")\n",
    "        func()\n",
    "    return wrapper\n",
    "\n",
    "def size(func):\n",
    "    def wrapper():\n",
    "        print(\"Small size\")\n",
    "        func()\n",
    "    return wrapper\n",
    "\n",
    "@color\n",
    "@size\n",
    "def buy_cloths():\n",
    "    print(\"I want to purchase cloths\")\n",
    "    \n",
    "buy_cloths()"
   ]
  },
  {
   "cell_type": "code",
   "execution_count": null,
   "id": "8c929db8",
   "metadata": {},
   "outputs": [],
   "source": []
  },
  {
   "cell_type": "code",
   "execution_count": null,
   "id": "a7a0bea4",
   "metadata": {},
   "outputs": [],
   "source": []
  }
 ],
 "metadata": {
  "kernelspec": {
   "display_name": "Python 3 (ipykernel)",
   "language": "python",
   "name": "python3"
  },
  "language_info": {
   "codemirror_mode": {
    "name": "ipython",
    "version": 3
   },
   "file_extension": ".py",
   "mimetype": "text/x-python",
   "name": "python",
   "nbconvert_exporter": "python",
   "pygments_lexer": "ipython3",
   "version": "3.9.6"
  }
 },
 "nbformat": 4,
 "nbformat_minor": 5
}
