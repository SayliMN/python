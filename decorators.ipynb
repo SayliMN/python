{
 "cells": [
  {
   "cell_type": "code",
   "execution_count": 7,
   "id": "c30a7447",
   "metadata": {},
   "outputs": [
    {
     "name": "stdout",
     "output_type": "stream",
     "text": [
      "White color\n",
      "Small size\n",
      "I want to purchase cloths\n"
     ]
    }
   ],
   "source": [
    "def color(func):\n",
    "    def wrapper():\n",
    "        print(\"White color\")\n",
    "        func()\n",
    "    return wrapper\n",
    "\n",
    "def size(func):\n",
    "    def wrapper():\n",
    "        print(\"Small size\")\n",
    "        func()\n",
    "    return wrapper\n",
    "\n",
    "@color\n",
    "@size\n",
    "def buy_cloths():\n",
    "    print(\"I want to purchase cloths\")\n",
    "    \n",
    "buy_cloths()"
   ]
  },
  {
   "cell_type": "markdown",
   "id": "046db739",
   "metadata": {},
   "source": [
    "#### Decorators with an argument"
   ]
  },
  {
   "cell_type": "code",
   "execution_count": 14,
   "id": "222ccbf0",
   "metadata": {},
   "outputs": [],
   "source": [
    "def repeat(n):\n",
    "    def decorator(func):\n",
    "        def wrapper():\n",
    "            for _ in range(n):\n",
    "                func() \n",
    "        return wrapper\n",
    "    return decorator\n",
    "\n",
    "@repeat(3)\n",
    "def greet():\n",
    "    print(\"Hello there!!!\")"
   ]
  },
  {
   "cell_type": "code",
   "execution_count": 15,
   "id": "8f0c78f0",
   "metadata": {},
   "outputs": [
    {
     "name": "stdout",
     "output_type": "stream",
     "text": [
      "Hello there!!!\n",
      "Hello there!!!\n",
      "Hello there!!!\n"
     ]
    }
   ],
   "source": [
    "greet()"
   ]
  },
  {
   "cell_type": "code",
   "execution_count": null,
   "id": "a946ad93",
   "metadata": {},
   "outputs": [],
   "source": []
  }
 ],
 "metadata": {
  "kernelspec": {
   "display_name": "Python 3 (ipykernel)",
   "language": "python",
   "name": "python3"
  },
  "language_info": {
   "codemirror_mode": {
    "name": "ipython",
    "version": 3
   },
   "file_extension": ".py",
   "mimetype": "text/x-python",
   "name": "python",
   "nbconvert_exporter": "python",
   "pygments_lexer": "ipython3",
   "version": "3.9.6"
  }
 },
 "nbformat": 4,
 "nbformat_minor": 5
}
